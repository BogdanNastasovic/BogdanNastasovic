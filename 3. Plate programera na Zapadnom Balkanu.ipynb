{
 "cells": [
  {
   "cell_type": "code",
   "execution_count": 1,
   "id": "7ddb4ccc-7ec3-4e1a-a14b-b458ff7571f6",
   "metadata": {},
   "outputs": [],
   "source": [
    "#Zadatak projekta je da odredimo prosečnu platu u zemljama Zapadnog Balkana#"
   ]
  },
  {
   "cell_type": "code",
   "execution_count": 2,
   "id": "e2d44c53-eaa1-427d-900b-07f38398c3af",
   "metadata": {},
   "outputs": [],
   "source": [
    "#Učitavamo neophodno biblioteke#\n",
    "\n",
    "import pandas as pd\n",
    "import matplotlib.pyplot as plt\n",
    "plt.close(\"all\")"
   ]
  },
  {
   "cell_type": "code",
   "execution_count": 3,
   "id": "e50743d5-e8a6-427e-b396-1b18c00c5765",
   "metadata": {},
   "outputs": [],
   "source": [
    "#Otvaramo tabelu i podešavamo opcije#\n",
    "\n",
    "df = pd.read_csv('data.csv')\n",
    "schema_df = pd.read_csv('data_schema.csv')\n",
    "\n",
    "pd.set_option(\"display.max_columns\",20)\n",
    "pd.set_option(\"display.max_rows\",20)"
   ]
  },
  {
   "cell_type": "code",
   "execution_count": 4,
   "id": "d48d262d-ba34-4a47-91b8-d5df67bbdb7f",
   "metadata": {},
   "outputs": [],
   "source": [
    "#Kreiramo filter po kome ćemo da izdvojimo potrebne zemlje#\n",
    "\n",
    "zemlja = [\"Serbia\", \"Bosnia and Herzegovina\", \"Croatia\", \"Montenegro\", \"Slovenia\", \"Albania\"]\n",
    "filter_zemlja = df[\"Country\"].isin(zemlja)"
   ]
  },
  {
   "cell_type": "code",
   "execution_count": 5,
   "id": "89413ac5-999b-4051-a39a-cb50315e761a",
   "metadata": {},
   "outputs": [
    {
     "data": {
      "text/plain": [
       "'What is your current total <b>annual</b> compensation (salary, bonuses, and perks, before taxes and deductions)? Please enter a whole number in the box below, without any punctuation.  If you are paid hourly, please estimate an equivalent yearly salary. If you prefer not to answer, please leave the box empty.'"
      ]
     },
     "execution_count": 5,
     "metadata": {},
     "output_type": "execute_result"
    }
   ],
   "source": [
    "#U šemi tražimo pitanje koje se odnosi na platu#\n",
    "\n",
    "schema_df.iloc[24]['question']"
   ]
  },
  {
   "cell_type": "code",
   "execution_count": 6,
   "id": "054e418d-0657-4117-8c64-696bd356871b",
   "metadata": {},
   "outputs": [],
   "source": [
    "#Brišemo sve nepotrebne kolone#\n",
    "#Ubacujemo domaće umesto stranih naziva#\n",
    "\n",
    "df1 = df.loc[filter_zemlja,[\"Country\", \"CompTotal\"]].reset_index()\n",
    "df1 = df1.drop(columns=['index'])\n",
    "\n",
    "srpski_nazivi = {'Country':'Zemlja', 'CompTotal':'Godišnja plata' }\n",
    "df1 = df1.rename(columns=srpski_nazivi)"
   ]
  },
  {
   "cell_type": "code",
   "execution_count": 7,
   "id": "38c5f122-bf6f-431e-9753-8c1fc8c89a0c",
   "metadata": {},
   "outputs": [
    {
     "data": {
      "text/html": [
       "<div>\n",
       "<style scoped>\n",
       "    .dataframe tbody tr th:only-of-type {\n",
       "        vertical-align: middle;\n",
       "    }\n",
       "\n",
       "    .dataframe tbody tr th {\n",
       "        vertical-align: top;\n",
       "    }\n",
       "\n",
       "    .dataframe thead th {\n",
       "        text-align: right;\n",
       "    }\n",
       "</style>\n",
       "<table border=\"1\" class=\"dataframe\">\n",
       "  <thead>\n",
       "    <tr style=\"text-align: right;\">\n",
       "      <th></th>\n",
       "      <th>Zemlja</th>\n",
       "      <th>Mesečna plata</th>\n",
       "    </tr>\n",
       "  </thead>\n",
       "  <tbody>\n",
       "    <tr>\n",
       "      <th>0</th>\n",
       "      <td>Albania</td>\n",
       "      <td>462.916667</td>\n",
       "    </tr>\n",
       "    <tr>\n",
       "      <th>1</th>\n",
       "      <td>Serbia</td>\n",
       "      <td>8750.000000</td>\n",
       "    </tr>\n",
       "    <tr>\n",
       "      <th>2</th>\n",
       "      <td>Croatia</td>\n",
       "      <td>183.333333</td>\n",
       "    </tr>\n",
       "    <tr>\n",
       "      <th>3</th>\n",
       "      <td>Serbia</td>\n",
       "      <td>833333.333333</td>\n",
       "    </tr>\n",
       "    <tr>\n",
       "      <th>4</th>\n",
       "      <td>Slovenia</td>\n",
       "      <td>11666.666667</td>\n",
       "    </tr>\n",
       "    <tr>\n",
       "      <th>...</th>\n",
       "      <td>...</td>\n",
       "      <td>...</td>\n",
       "    </tr>\n",
       "    <tr>\n",
       "      <th>1158</th>\n",
       "      <td>Albania</td>\n",
       "      <td>NaN</td>\n",
       "    </tr>\n",
       "    <tr>\n",
       "      <th>1159</th>\n",
       "      <td>Slovenia</td>\n",
       "      <td>10416.666667</td>\n",
       "    </tr>\n",
       "    <tr>\n",
       "      <th>1160</th>\n",
       "      <td>Croatia</td>\n",
       "      <td>NaN</td>\n",
       "    </tr>\n",
       "    <tr>\n",
       "      <th>1161</th>\n",
       "      <td>Serbia</td>\n",
       "      <td>NaN</td>\n",
       "    </tr>\n",
       "    <tr>\n",
       "      <th>1162</th>\n",
       "      <td>Serbia</td>\n",
       "      <td>1666.666667</td>\n",
       "    </tr>\n",
       "  </tbody>\n",
       "</table>\n",
       "<p>1163 rows × 2 columns</p>\n",
       "</div>"
      ],
      "text/plain": [
       "        Zemlja  Mesečna plata\n",
       "0      Albania     462.916667\n",
       "1       Serbia    8750.000000\n",
       "2      Croatia     183.333333\n",
       "3       Serbia  833333.333333\n",
       "4     Slovenia   11666.666667\n",
       "...        ...            ...\n",
       "1158   Albania            NaN\n",
       "1159  Slovenia   10416.666667\n",
       "1160   Croatia            NaN\n",
       "1161    Serbia            NaN\n",
       "1162    Serbia    1666.666667\n",
       "\n",
       "[1163 rows x 2 columns]"
      ]
     },
     "execution_count": 7,
     "metadata": {},
     "output_type": "execute_result"
    }
   ],
   "source": [
    "#Kreiramo kolonu koja će da sadrži mesečnu platu#\n",
    "\n",
    "df1['Mesečna plata'] = df1['Godišnja plata']/12\n",
    "df1.drop(columns='Godišnja plata', inplace = True)\n",
    "df1"
   ]
  },
  {
   "cell_type": "code",
   "execution_count": 8,
   "id": "71c01635-1dd4-4ea3-bd3d-7dda3d6c1e63",
   "metadata": {},
   "outputs": [],
   "source": [
    "#Stavljamo domaće nazive#\n",
    "\n",
    "nazivi_zemalja = {'Serbia': 'Srbija',\n",
    "                  'Croatia':'Hrvatska',\n",
    "                  'Slovenia':'Slovenija',\n",
    "                  'Bosnia and Herzegovina':'Bosna i Hercegovina',\n",
    "                  'Montenegro':'Crna Gora',\n",
    "                  'Albania' : 'Albanija'\n",
    "                 }\n",
    "df1['Zemlja'] = df1['Zemlja'].map(nazivi_zemalja)"
   ]
  },
  {
   "cell_type": "code",
   "execution_count": 9,
   "id": "e0d77e75-057c-47f5-adb0-135426d03ffd",
   "metadata": {},
   "outputs": [],
   "source": [
    "#Izdvajamo samo one odgovore čija je 'Mesečna plata' manja od 6000#\n",
    "#Ovo je izuzetno grub kriterijum za filtriranje, ali na taj način izbegavamo ekstremne vrednosti#\n",
    "\n",
    "df1 = df1.loc[df1[\"Mesečna plata\"]<6000].reset_index().drop(columns=['index'])"
   ]
  },
  {
   "cell_type": "code",
   "execution_count": 10,
   "id": "c3826d57-7b63-4a83-898e-256bf0c22225",
   "metadata": {},
   "outputs": [],
   "source": [
    "#Tabelu grupisemo po zemljama#\n",
    "\n",
    "zemlje_grupa = df1.groupby('Zemlja')"
   ]
  },
  {
   "cell_type": "code",
   "execution_count": 11,
   "id": "33b760cf-6942-4e2f-8f09-c630c78a2ee1",
   "metadata": {
    "scrolled": true
   },
   "outputs": [],
   "source": [
    "#Koristimo funkciju median umesto mean, jer ona je manje osetljiva na ekstremne vrednosti#\n",
    "\n",
    "medijana = zemlje_grupa['Mesečna plata'].median()"
   ]
  },
  {
   "cell_type": "code",
   "execution_count": 12,
   "id": "3fcf11f7-836b-42a7-ad44-505baa533b7f",
   "metadata": {},
   "outputs": [
    {
     "data": {
      "image/png": "[encoded data removed]",
      "text/plain": [
       "<Figure size 640x480 with 1 Axes>"
      ]
     },
     "metadata": {},
     "output_type": "display_data"
    }
   ],
   "source": [
    "#Vršimo grafički prikaz#\n",
    "\n",
    "medijana.plot(kind = 'barh',\n",
    "              title = 'Prosečna plata programera u zemljama Zapadnog Balkana u €',\n",
    "              color = '#92E14C',\n",
    "              ylabel ='')\n",
    "plt.show()"
   ]
  },
  {
   "cell_type": "code",
   "execution_count": null,
   "id": "a11684bf-482b-442b-84cf-0ae43854ce6a",
   "metadata": {},
   "outputs": [],
   "source": []
  }
 ],
 "metadata": {
  "kernelspec": {
   "display_name": "Python 3 (ipykernel)",
   "language": "python",
   "name": "python3"
  },
  "language_info": {
   "codemirror_mode": {
    "name": "ipython",
    "version": 3
   },
   "file_extension": ".py",
   "mimetype": "text/x-python",
   "name": "python",
   "nbconvert_exporter": "python",
   "pygments_lexer": "ipython3",
   "version": "3.11.2"
  }
 },
 "nbformat": 4,
 "nbformat_minor": 5
}
